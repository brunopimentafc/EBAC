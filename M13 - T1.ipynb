{
 "cells": [
  {
   "cell_type": "markdown",
   "metadata": {},
   "source": [
    "# EBAC - Regressão II - regressão múltipla\n",
    "\n",
    "## Tarefa I"
   ]
  },
  {
   "cell_type": "markdown",
   "metadata": {},
   "source": [
    "#### Previsão de renda\n",
    "\n",
    "Vamos trabalhar com a base 'previsao_de_renda.csv', que é a base do seu próximo projeto. Vamos usar os recursos que vimos até aqui nesta base.\n",
    "\n",
    "|variavel|descrição|\n",
    "|-|-|\n",
    "|data_ref                | Data de referência de coleta das variáveis |\n",
    "|index                   | Código de identificação do cliente|\n",
    "|sexo                    | Sexo do cliente|\n",
    "|posse_de_veiculo        | Indica se o cliente possui veículo|\n",
    "|posse_de_imovel         | Indica se o cliente possui imóvel|\n",
    "|qtd_filhos              | Quantidade de filhos do cliente|\n",
    "|tipo_renda              | Tipo de renda do cliente|\n",
    "|educacao                | Grau de instrução do cliente|\n",
    "|estado_civil            | Estado civil do cliente|\n",
    "|tipo_residencia         | Tipo de residência do cliente (própria, alugada etc)|\n",
    "|idade                   | Idade do cliente|\n",
    "|tempo_emprego           | Tempo no emprego atual|\n",
    "|qt_pessoas_residencia   | Quantidade de pessoas que moram na residência|\n",
    "|renda                   | Renda em reais|"
   ]
  },
  {
   "cell_type": "code",
   "execution_count": null,
   "metadata": {},
   "outputs": [],
   "source": [
    "import pandas as pd"
   ]
  },
  {
   "cell_type": "code",
   "execution_count": null,
   "metadata": {},
   "outputs": [],
   "source": [
    "df = pd.read_csv('previsao_de_renda.csv')"
   ]
  },
  {
   "cell_type": "code",
   "execution_count": null,
   "metadata": {},
   "outputs": [],
   "source": [
    "df.info()"
   ]
  },
  {
   "cell_type": "markdown",
   "metadata": {},
   "source": [
    "1. Ajuste um modelo para prever log(renda) considerando todas as covariáveis disponíveis.\n",
    "    - Utilizando os recursos do Patsy, coloque as variáveis qualitativas como *dummies*.\n",
    "    - Mantenha sempre a categoria mais frequente como casela de referência\n",
    "    - Avalie os parâmetros e veja se parecem fazer sentido prático.  \n",
    "\n",
    "\n",
    "2. Remova a variável menos significante e analise:\n",
    "    - Observe os indicadores que vimos, e avalie se o modelo melhorou ou piorou na sua opinião.\n",
    "    - Observe os parâmetros e veja se algum se alterou muito.  \n",
    "\n",
    "\n",
    "3. Siga removendo as variáveis menos significantes, sempre que o *p-value* for menor que 5%. Compare o modelo final com o inicial. Observe os indicadores e conclua se o modelo parece melhor. \n",
    "    "
   ]
  },
  {
   "cell_type": "markdown",
   "metadata": {},
   "source": [
    "##### Ajuste um modelo para prever log(renda) considerando todas as covariáveis disponíveis.\n",
    "##### Utilizando os recursos do Patsy, coloque as variáveis qualitativas como dummies"
   ]
  },
  {
   "cell_type": "code",
   "execution_count": 4,
   "metadata": {},
   "outputs": [
    {
     "name": "stdout",
     "output_type": "stream",
     "text": [
      "Colunas disponíveis: ['Unnamed: 0', 'data_ref', 'id_cliente', 'sexo', 'posse_de_veiculo', 'posse_de_imovel', 'qtd_filhos', 'tipo_renda', 'educacao', 'estado_civil', 'tipo_residencia', 'idade', 'tempo_emprego', 'qt_pessoas_residencia', 'renda']\n",
      "                            OLS Regression Results                            \n",
      "==============================================================================\n",
      "Dep. Variable:          np.log(renda)   R-squared:                       0.357\n",
      "Model:                            OLS   Adj. R-squared:                  0.356\n",
      "Method:                 Least Squares   F-statistic:                     287.5\n",
      "Date:                Thu, 30 Oct 2025   Prob (F-statistic):               0.00\n",
      "Time:                        14:37:14   Log-Likelihood:                -13568.\n",
      "No. Observations:               12427   AIC:                         2.719e+04\n",
      "Df Residuals:                   12402   BIC:                         2.737e+04\n",
      "Df Model:                          24                                         \n",
      "Covariance Type:            nonrobust                                         \n",
      "====================================================================================================\n",
      "                                       coef    std err          t      P>|t|      [0.025      0.975]\n",
      "----------------------------------------------------------------------------------------------------\n",
      "Intercept                            6.5847      0.235     28.006      0.000       6.124       7.046\n",
      "sexo[T.M]                            0.7874      0.015     53.723      0.000       0.759       0.816\n",
      "posse_de_veiculo[T.True]             0.0441      0.014      3.119      0.002       0.016       0.072\n",
      "posse_de_imovel[T.True]              0.0829      0.014      5.926      0.000       0.055       0.110\n",
      "tipo_renda[T.Bolsista]               0.2209      0.241      0.916      0.360      -0.252       0.694\n",
      "tipo_renda[T.Empresário]             0.1551      0.015     10.387      0.000       0.126       0.184\n",
      "tipo_renda[T.Pensionista]           -0.3087      0.241     -1.280      0.201      -0.782       0.164\n",
      "tipo_renda[T.Servidor público]       0.0576      0.022      2.591      0.010       0.014       0.101\n",
      "educacao[T.Pós graduação]            0.1071      0.159      0.673      0.501      -0.205       0.419\n",
      "educacao[T.Secundário]              -0.0141      0.072     -0.196      0.844      -0.155       0.127\n",
      "educacao[T.Superior completo]        0.0938      0.072      1.298      0.194      -0.048       0.235\n",
      "educacao[T.Superior incompleto]     -0.0432      0.078     -0.555      0.579      -0.196       0.109\n",
      "estado_civil[T.Separado]             0.3265      0.111      2.935      0.003       0.108       0.545\n",
      "estado_civil[T.Solteiro]             0.2672      0.109      2.453      0.014       0.054       0.481\n",
      "estado_civil[T.União]               -0.0343      0.025     -1.361      0.174      -0.084       0.015\n",
      "estado_civil[T.Viúvo]                0.3689      0.116      3.191      0.001       0.142       0.596\n",
      "tipo_residencia[T.Casa]             -0.0442      0.054     -0.815      0.415      -0.150       0.062\n",
      "tipo_residencia[T.Com os pais]      -0.0258      0.060     -0.427      0.670      -0.144       0.093\n",
      "tipo_residencia[T.Comunitário]      -0.1196      0.105     -1.135      0.256      -0.326       0.087\n",
      "tipo_residencia[T.Estúdio]           0.0665      0.099      0.670      0.503      -0.128       0.261\n",
      "tipo_residencia[T.Governamental]    -0.0571      0.066     -0.865      0.387      -0.186       0.072\n",
      "qtd_filhos                          -0.2658      0.108     -2.463      0.014      -0.477      -0.054\n",
      "idade                                0.0053      0.001      6.624      0.000       0.004       0.007\n",
      "tempo_emprego                        0.0617      0.001     59.398      0.000       0.060       0.064\n",
      "qt_pessoas_residencia                0.2926      0.108      2.716      0.007       0.081       0.504\n",
      "==============================================================================\n",
      "Omnibus:                        0.858   Durbin-Watson:                   2.023\n",
      "Prob(Omnibus):                  0.651   Jarque-Bera (JB):                0.839\n",
      "Skew:                           0.019   Prob(JB):                        0.657\n",
      "Kurtosis:                       3.012   Cond. No.                     2.18e+03\n",
      "==============================================================================\n",
      "\n",
      "Notes:\n",
      "[1] Standard Errors assume that the covariance matrix of the errors is correctly specified.\n",
      "[2] The condition number is large, 2.18e+03. This might indicate that there are\n",
      "strong multicollinearity or other numerical problems.\n"
     ]
    }
   ],
   "source": [
    "import pandas as pd\n",
    "import numpy as np\n",
    "import statsmodels.api as sm\n",
    "from patsy import dmatrices\n",
    "\n",
    "# Carregar a base de dados\n",
    "renda = pd.read_csv('previsao_de_renda.csv')\n",
    "\n",
    "# Verificar nomes das colunas disponíveis\n",
    "print(\"Colunas disponíveis:\", renda.columns.tolist())\n",
    "\n",
    "# Remover colunas apenas se existirem\n",
    "for col in ['data_ref', 'index']:\n",
    "    if col in renda.columns:\n",
    "        renda = renda.drop(columns=col)\n",
    "\n",
    "# Criar as matrizes de design (X e y)\n",
    "y, X = dmatrices(\n",
    "    'np.log(renda) ~ sexo + posse_de_veiculo + posse_de_imovel + qtd_filhos + tipo_renda + educacao + estado_civil + tipo_residencia + idade + tempo_emprego + qt_pessoas_residencia',\n",
    "    data=renda, return_type='dataframe'\n",
    ")\n",
    "\n",
    "# Ajustar o modelo de regressão linear múltipla\n",
    "modelo_completo = sm.OLS(y, X).fit()\n",
    "\n",
    "# Exibir o resumo do modelo\n",
    "print(modelo_completo.summary())"
   ]
  },
  {
   "cell_type": "markdown",
   "metadata": {},
   "source": [
    "O for col in ['data_ref', 'index'] garante que a função só tenta excluir colunas que realmente existem no DataFrame.\n",
    "O print(renda.columns.tolist()) ajuda a conferir os nomes reais das coluna.\n",
    "O resto do código continua igual, criando as variáveis dummies automaticamente via Patsy e ajustando o modelo de regressão."
   ]
  },
  {
   "cell_type": "markdown",
   "metadata": {},
   "source": [
    "##### Mantenha sempre a categoria mais frequente como casela de referência"
   ]
  },
  {
   "cell_type": "code",
   "execution_count": 5,
   "metadata": {},
   "outputs": [
    {
     "name": "stdout",
     "output_type": "stream",
     "text": [
      "                            OLS Regression Results                            \n",
      "==============================================================================\n",
      "Dep. Variable:          np.log(renda)   R-squared:                       0.357\n",
      "Model:                            OLS   Adj. R-squared:                  0.356\n",
      "Method:                 Least Squares   F-statistic:                     287.5\n",
      "Date:                Thu, 30 Oct 2025   Prob (F-statistic):               0.00\n",
      "Time:                        14:50:50   Log-Likelihood:                -13568.\n",
      "No. Observations:               12427   AIC:                         2.719e+04\n",
      "Df Residuals:                   12402   BIC:                         2.737e+04\n",
      "Df Model:                          24                                         \n",
      "Covariance Type:            nonrobust                                         \n",
      "====================================================================================================\n",
      "                                       coef    std err          t      P>|t|      [0.025      0.975]\n",
      "----------------------------------------------------------------------------------------------------\n",
      "Intercept                            6.6093      0.219     30.214      0.000       6.181       7.038\n",
      "sexo[T.M]                            0.7874      0.015     53.723      0.000       0.759       0.816\n",
      "posse_de_veiculo[T.True]             0.0441      0.014      3.119      0.002       0.016       0.072\n",
      "posse_de_imovel[T.False]            -0.0829      0.014     -5.926      0.000      -0.110      -0.055\n",
      "tipo_renda[T.Empresário]             0.1551      0.015     10.387      0.000       0.126       0.184\n",
      "tipo_renda[T.Servidor público]       0.0576      0.022      2.591      0.010       0.014       0.101\n",
      "tipo_renda[T.Pensionista]           -0.3087      0.241     -1.280      0.201      -0.782       0.164\n",
      "tipo_renda[T.Bolsista]               0.2209      0.241      0.916      0.360      -0.252       0.694\n",
      "educacao[T.Superior completo]        0.1079      0.014      7.763      0.000       0.081       0.135\n",
      "educacao[T.Superior incompleto]     -0.0290      0.032     -0.900      0.368      -0.092       0.034\n",
      "educacao[T.Primário]                 0.0141      0.072      0.196      0.844      -0.127       0.155\n",
      "educacao[T.Pós graduação]            0.1212      0.142      0.853      0.394      -0.157       0.400\n",
      "estado_civil[T.Solteiro]             0.2672      0.109      2.453      0.014       0.054       0.481\n",
      "estado_civil[T.Viúvo]                0.3689      0.116      3.191      0.001       0.142       0.596\n",
      "estado_civil[T.União]               -0.0343      0.025     -1.361      0.174      -0.084       0.015\n",
      "estado_civil[T.Separado]             0.3265      0.111      2.935      0.003       0.108       0.545\n",
      "tipo_residencia[T.Governamental]    -0.0129      0.039     -0.331      0.741      -0.089       0.064\n",
      "tipo_residencia[T.Com os pais]       0.0184      0.029      0.625      0.532      -0.039       0.076\n",
      "tipo_residencia[T.Aluguel]           0.0442      0.054      0.815      0.415      -0.062       0.150\n",
      "tipo_residencia[T.Estúdio]           0.1107      0.084      1.319      0.187      -0.054       0.275\n",
      "tipo_residencia[T.Comunitário]      -0.0754      0.091     -0.829      0.407      -0.254       0.103\n",
      "qtd_filhos                          -0.2658      0.108     -2.463      0.014      -0.477      -0.054\n",
      "idade                                0.0053      0.001      6.624      0.000       0.004       0.007\n",
      "tempo_emprego                        0.0617      0.001     59.398      0.000       0.060       0.064\n",
      "qt_pessoas_residencia                0.2926      0.108      2.716      0.007       0.081       0.504\n",
      "==============================================================================\n",
      "Omnibus:                        0.858   Durbin-Watson:                   2.023\n",
      "Prob(Omnibus):                  0.651   Jarque-Bera (JB):                0.839\n",
      "Skew:                           0.019   Prob(JB):                        0.657\n",
      "Kurtosis:                       3.012   Cond. No.                     2.14e+03\n",
      "==============================================================================\n",
      "\n",
      "Notes:\n",
      "[1] Standard Errors assume that the covariance matrix of the errors is correctly specified.\n",
      "[2] The condition number is large, 2.14e+03. This might indicate that there are\n",
      "strong multicollinearity or other numerical problems.\n"
     ]
    }
   ],
   "source": [
    "import pandas as pd\n",
    "import numpy as np\n",
    "import statsmodels.api as sm\n",
    "from patsy import dmatrices\n",
    "\n",
    "# Carregar a base\n",
    "renda = pd.read_csv('previsao_de_renda.csv')\n",
    "\n",
    "# Encontrar a categoria mais frequente em cada variável categórica\n",
    "categoricas = ['sexo', 'posse_de_veiculo', 'posse_de_imovel', 'tipo_renda',\n",
    "               'educacao', 'estado_civil', 'tipo_residencia']\n",
    "\n",
    "for var in categoricas:\n",
    "    mais_freq = renda[var].mode()[0]  # categoria mais frequente\n",
    "    renda[var] = pd.Categorical(renda[var],\n",
    "                                categories=[mais_freq] + [c for c in renda[var].unique() if c != mais_freq],\n",
    "                                ordered=True)\n",
    "\n",
    "# Criar as matrizes de design com Patsy — agora com a categoria mais frequente como referência\n",
    "y, X = dmatrices(\n",
    "    'np.log(renda) ~ sexo + posse_de_veiculo + posse_de_imovel + qtd_filhos + tipo_renda + educacao + estado_civil + tipo_residencia + idade + tempo_emprego + qt_pessoas_residencia',\n",
    "    data=renda, return_type='dataframe'\n",
    ")\n",
    "\n",
    "# Ajustar o modelo\n",
    "modelo = sm.OLS(y, X).fit()\n",
    "print(modelo.summary())"
   ]
  },
  {
   "cell_type": "markdown",
   "metadata": {},
   "source": [
    "##### Avalie os parâmetros e veja se parecem fazer sentido prático.\n",
    "##### Remova a variável menos significante e analise:"
   ]
  },
  {
   "cell_type": "code",
   "execution_count": 7,
   "metadata": {},
   "outputs": [
    {
     "name": "stdout",
     "output_type": "stream",
     "text": [
      "📉 Fórmula final: np.log(renda) ~ sexo + posse_de_veiculo + posse_de_imovel + qtd_filhos + idade + tempo_emprego\n",
      "                            OLS Regression Results                            \n",
      "==============================================================================\n",
      "Dep. Variable:          np.log(renda)   R-squared:                       0.347\n",
      "Model:                            OLS   Adj. R-squared:                  0.346\n",
      "Method:                 Least Squares   F-statistic:                     1098.\n",
      "Date:                Thu, 30 Oct 2025   Prob (F-statistic):               0.00\n",
      "Time:                        14:58:16   Log-Likelihood:                -13673.\n",
      "No. Observations:               12427   AIC:                         2.736e+04\n",
      "Df Residuals:                   12420   BIC:                         2.741e+04\n",
      "Df Model:                           6                                         \n",
      "Covariance Type:            nonrobust                                         \n",
      "============================================================================================\n",
      "                               coef    std err          t      P>|t|      [0.025      0.975]\n",
      "--------------------------------------------------------------------------------------------\n",
      "Intercept                    7.3089      0.034    213.746      0.000       7.242       7.376\n",
      "sexo[T.M]                    0.7688      0.015     52.768      0.000       0.740       0.797\n",
      "posse_de_veiculo[T.True]     0.0561      0.014      3.986      0.000       0.029       0.084\n",
      "posse_de_imovel[T.False]    -0.0866      0.014     -6.278      0.000      -0.114      -0.060\n",
      "qtd_filhos                   0.0239      0.009      2.767      0.006       0.007       0.041\n",
      "idade                        0.0049      0.001      6.399      0.000       0.003       0.006\n",
      "tempo_emprego                0.0610      0.001     59.084      0.000       0.059       0.063\n",
      "==============================================================================\n",
      "Omnibus:                        1.243   Durbin-Watson:                   2.026\n",
      "Prob(Omnibus):                  0.537   Jarque-Bera (JB):                1.216\n",
      "Skew:                           0.022   Prob(JB):                        0.545\n",
      "Kurtosis:                       3.020   Cond. No.                         226.\n",
      "==============================================================================\n",
      "\n",
      "Notes:\n",
      "[1] Standard Errors assume that the covariance matrix of the errors is correctly specified.\n"
     ]
    }
   ],
   "source": [
    "import statsmodels.api as sm\n",
    "from patsy import dmatrices\n",
    "\n",
    "# Fórmula inicial com todas as variáveis\n",
    "formula_base = 'np.log(renda) ~ sexo + posse_de_veiculo + posse_de_imovel + qtd_filhos + tipo_renda + educacao + estado_civil + tipo_residencia + idade + tempo_emprego + qt_pessoas_residencia'\n",
    "\n",
    "def backward_elimination(formula, data, p_limite=0.05):\n",
    "    y, X = dmatrices(formula, data=data, return_type='dataframe')\n",
    "    modelo = sm.OLS(y, X).fit()\n",
    "    \n",
    "    while True:\n",
    "        # P-valores do modelo\n",
    "        p_valores = modelo.pvalues.drop(\"Intercept\", errors='ignore')\n",
    "        p_max = p_valores.max()\n",
    "        if p_max > p_limite:\n",
    "            variavel_remover = p_valores.idxmax()\n",
    "            \n",
    "            # Extrair apenas o nome da variável base antes de \"[T.\"\n",
    "            base_var = variavel_remover.split(\"[\")[0]\n",
    "            \n",
    "            # Remover todas as dummies associadas à variável base\n",
    "            termos = formula.split(\"~\")[1]\n",
    "            termos_lista = [v.strip() for v in termos.split(\"+\") if base_var not in v]\n",
    "            nova_formula = \"np.log(renda) ~ \" + \" + \".join(termos_lista)\n",
    "            \n",
    "            # Reajustar modelo\n",
    "            y, X = dmatrices(nova_formula, data=data, return_type='dataframe')\n",
    "            modelo = sm.OLS(y, X).fit()\n",
    "            formula = nova_formula\n",
    "        else:\n",
    "            break\n",
    "    \n",
    "    return modelo, formula\n",
    "\n",
    "# Executar o processo\n",
    "modelo_final, formula_final = backward_elimination(formula_base, renda)\n",
    "\n",
    "print(\"📉 Fórmula final:\", formula_final)\n",
    "print(modelo_final.summary())"
   ]
  },
  {
   "cell_type": "markdown",
   "metadata": {},
   "source": [
    "Após o ajuste dos modelos, o modelo reduzido apresentou melhor equilíbrio entre simplicidade e desempenho estatístico. Embora o R² ajustado tenha se mantido muito próximo ao do modelo completo (0,347 contra 0,356), o modelo final apresentou menores valores de AIC e BIC, indicando melhor qualidade de ajuste com menor complexidade. Além disso, todas as variáveis remanescentes — sexo, posse de veículo, posse de imóvel, número de filhos, idade e tempo de emprego — mostraram-se estatisticamente significativas e coerentes do ponto de vista econômico, representando fatores plausíveis de influência sobre a renda. Assim, o modelo reduzido é considerado o mais adequado por ser mais parcimonioso, interpretável e robusto"
   ]
  },
  {
   "cell_type": "markdown",
   "metadata": {},
   "source": [
    "##### Observe os parâmetros e veja se algum se alterou muito."
   ]
  },
  {
   "cell_type": "markdown",
   "metadata": {},
   "source": [
    "Ao comparar os parâmetros do modelo completo e do modelo reduzido, verifica-se que as magnitudes e os sinais dos coeficientes principais permaneceram consistentes, indicando que a exclusão das variáveis não significantes não alterou substancialmente as relações entre as variáveis explicativas e a renda. As pequenas variações observadas são esperadas e refletem a redução da multicolinearidade, resultando em estimativas mais estáveis e precisas. Conclui-se, portanto, que a simplificação do modelo preservou a coerência e a robustez dos resultados."
   ]
  },
  {
   "cell_type": "markdown",
   "metadata": {},
   "source": [
    "##### Siga removendo as variáveis menos significantes, sempre que o p-value for menor que 5%. Compare o modelo final com o inicial. Observe os indicadores e conclua se o modelo parece melhor."
   ]
  },
  {
   "cell_type": "markdown",
   "metadata": {},
   "source": [
    "Após a remoção iterativa das variáveis menos significantes (p > 0,05), o modelo final apresentou um R² ajustado ligeiramente menor (0,347 contra 0,356 no modelo inicial), porém valores menores de AIC e BIC, o que indica melhor equilíbrio entre ajuste e parcimônia. Além disso, todos os coeficientes restantes mostraram-se estatisticamente significativos e coerentes do ponto de vista econômico.\n",
    "\n",
    "Conclui-se que o modelo final é mais simples, estável e eficiente, mantendo poder explicativo semelhante ao modelo completo, mas com menor complexidade e maior robustez estatística"
   ]
  }
 ],
 "metadata": {
  "kernelspec": {
   "display_name": "Python 3 (ipykernel)",
   "language": "python",
   "name": "python3"
  },
  "language_info": {
   "codemirror_mode": {
    "name": "ipython",
    "version": 3
   },
   "file_extension": ".py",
   "mimetype": "text/x-python",
   "name": "python",
   "nbconvert_exporter": "python",
   "pygments_lexer": "ipython3",
   "version": "3.13.5"
  }
 },
 "nbformat": 4,
 "nbformat_minor": 4
}
