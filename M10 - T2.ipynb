{
 "cells": [
  {
   "cell_type": "markdown",
   "metadata": {},
   "source": [
    "# Módulo 10 tarefa 2\n",
    "\n",
    "Considere a mesma base de dados utilizada na tarefa 1 ```previsao_de_renda.csv```."
   ]
  },
  {
   "cell_type": "markdown",
   "metadata": {},
   "source": [
    "1) Com o que você viu em aula, faça uma análise das variáveis qualitativas (posse de imóvel e posse de veículo) para verificar se são boas preditoras de *renda*. Alguma delas parece discriminar *renda* de forma estatisticamente significante?"
   ]
  },
  {
   "cell_type": "markdown",
   "metadata": {},
   "source": [
    "Antes de iniciar a análise, a expectativa era compreender se características qualitativas simples — como possuir um imóvel ou um veículo — poderiam ser bons indicadores do nível de renda dos indivíduos. A hipótese inicial era de que pessoas com posse de bens materiais teriam, em média, rendas mais altas, refletindo maior estabilidade financeira. Assim, o objetivo foi verificar se essas variáveis qualitativas realmente discriminam grupos com diferentes níveis de renda de forma estatisticamente significativa, utilizando técnicas de análise descritiva, cálculo de erro padrão, intervalos de confiança e o teste t de Student para comparação das médias."
   ]
  },
  {
   "cell_type": "code",
   "execution_count": 7,
   "metadata": {},
   "outputs": [
    {
     "data": {
      "text/html": [
       "<div>\n",
       "<style scoped>\n",
       "    .dataframe tbody tr th:only-of-type {\n",
       "        vertical-align: middle;\n",
       "    }\n",
       "\n",
       "    .dataframe tbody tr th {\n",
       "        vertical-align: top;\n",
       "    }\n",
       "\n",
       "    .dataframe thead th {\n",
       "        text-align: right;\n",
       "    }\n",
       "</style>\n",
       "<table border=\"1\" class=\"dataframe\">\n",
       "  <thead>\n",
       "    <tr style=\"text-align: right;\">\n",
       "      <th></th>\n",
       "      <th>posse_de_imovel</th>\n",
       "      <th>posse_de_veiculo</th>\n",
       "      <th>renda</th>\n",
       "    </tr>\n",
       "  </thead>\n",
       "  <tbody>\n",
       "    <tr>\n",
       "      <th>0</th>\n",
       "      <td>True</td>\n",
       "      <td>False</td>\n",
       "      <td>3369.24</td>\n",
       "    </tr>\n",
       "    <tr>\n",
       "      <th>1</th>\n",
       "      <td>True</td>\n",
       "      <td>True</td>\n",
       "      <td>6096.14</td>\n",
       "    </tr>\n",
       "    <tr>\n",
       "      <th>2</th>\n",
       "      <td>True</td>\n",
       "      <td>True</td>\n",
       "      <td>5658.98</td>\n",
       "    </tr>\n",
       "    <tr>\n",
       "      <th>3</th>\n",
       "      <td>False</td>\n",
       "      <td>True</td>\n",
       "      <td>7246.69</td>\n",
       "    </tr>\n",
       "    <tr>\n",
       "      <th>4</th>\n",
       "      <td>False</td>\n",
       "      <td>False</td>\n",
       "      <td>4017.37</td>\n",
       "    </tr>\n",
       "  </tbody>\n",
       "</table>\n",
       "</div>"
      ],
      "text/plain": [
       "   posse_de_imovel  posse_de_veiculo    renda\n",
       "0             True             False  3369.24\n",
       "1             True              True  6096.14\n",
       "2             True              True  5658.98\n",
       "3            False              True  7246.69\n",
       "4            False             False  4017.37"
      ]
     },
     "execution_count": 7,
     "metadata": {},
     "output_type": "execute_result"
    }
   ],
   "source": [
    "import pandas as pd\n",
    "\n",
    "# Lê o arquivo\n",
    "previsao_de_renda = pd.read_csv(\"previsao_de_renda.csv\")\n",
    "\n",
    "# Confere rapidamente as colunas relevantes\n",
    "previsao_de_renda[[\"posse_de_imovel\", \"posse_de_veiculo\", \"renda\"]].head()"
   ]
  },
  {
   "cell_type": "markdown",
   "metadata": {},
   "source": [
    "Abaixo, calculei, para cada grupo (“possui” ou “não possui” imóvel/veículo), a média, desvio padrão, erro padrão e intervalo de confiança (95%) da renda.\n",
    "Essas medidas resumem o comportamento da renda em cada categoria e mostram se há diferença média relevante entre os grupos."
   ]
  },
  {
   "cell_type": "code",
   "execution_count": 9,
   "metadata": {},
   "outputs": [
    {
     "name": "stdout",
     "output_type": "stream",
     "text": [
      "Estatísticas por posse de imóvel:\n",
      " posse_de_imovel               \n",
      "False            média             4426.970482\n",
      "                 desvio_padrão     4569.558384\n",
      "                 erro_padrão         65.159834\n",
      "                 IC_95_inf         4299.228109\n",
      "                 IC_95_sup         4554.712854\n",
      "                 n                 4918.000000\n",
      "True             média             4721.052704\n",
      "                 desvio_padrão     4654.266817\n",
      "                 erro_padrão         46.353009\n",
      "                 IC_95_inf         4630.191567\n",
      "                 IC_95_sup         4811.913841\n",
      "                 n                10082.000000\n",
      "Name: renda, dtype: float64\n",
      "\n",
      "Estatísticas por posse de veículo:\n",
      " posse_de_veiculo               \n",
      "False             média            4390.506963\n",
      "                  desvio_padrão    4545.776180\n",
      "                  erro_padrão        47.478220\n",
      "                  IC_95_inf        4297.439071\n",
      "                  IC_95_sup        4483.574855\n",
      "                  n                9167.000000\n",
      "True              média            4992.579609\n",
      "                  desvio_padrão    4732.823337\n",
      "                  erro_padrão        61.968974\n",
      "                  IC_95_inf        4871.097440\n",
      "                  IC_95_sup        5114.061778\n",
      "                  n                5833.000000\n",
      "Name: renda, dtype: float64\n"
     ]
    }
   ],
   "source": [
    "import numpy as np\n",
    "from scipy import stats\n",
    "\n",
    "# Função auxiliar para calcular estatísticas\n",
    "def resumo_estatistico(grupo):\n",
    "    media = grupo.mean()\n",
    "    desvio = grupo.std()\n",
    "    n = grupo.count()\n",
    "    erro_padrao = desvio / np.sqrt(n)\n",
    "    \n",
    "    # Intervalo de confiança (95%)\n",
    "    ic = stats.t.interval(0.95, df=n-1, loc=media, scale=erro_padrao)\n",
    "    \n",
    "    return pd.Series({\n",
    "        \"média\": media,\n",
    "        \"desvio_padrão\": desvio,\n",
    "        \"erro_padrão\": erro_padrao,\n",
    "        \"IC_95_inf\": ic[0],\n",
    "        \"IC_95_sup\": ic[1],\n",
    "        \"n\": n\n",
    "    })\n",
    "\n",
    "# Aplica por grupo\n",
    "estat_imovel = previsao_de_renda.groupby(\"posse_de_imovel\")[\"renda\"].apply(resumo_estatistico)\n",
    "estat_veiculo = previsao_de_renda.groupby(\"posse_de_veiculo\")[\"renda\"].apply(resumo_estatistico)\n",
    "\n",
    "print(\"Estatísticas por posse de imóvel:\\n\", estat_imovel)\n",
    "print(\"\\nEstatísticas por posse de veículo:\\n\", estat_veiculo)"
   ]
  },
  {
   "cell_type": "markdown",
   "metadata": {},
   "source": [
    "Aqui, crio gráficos de ponto (pointplot) mostrando a média de renda e o intervalo de confiança para cada grupo.\n",
    "Isso facilita visualizar se a renda é consistentemente maior em quem possui imóvel ou veículo, ajudando a perceber tendências e possíveis diferenças significativas."
   ]
  },
  {
   "cell_type": "code",
   "execution_count": 10,
   "metadata": {},
   "outputs": [
    {
     "name": "stderr",
     "output_type": "stream",
     "text": [
      "C:\\Users\\brunn\\AppData\\Local\\Temp\\ipykernel_3304\\2603003094.py:7: FutureWarning: \n",
      "\n",
      "The `ci` parameter is deprecated. Use `errorbar=('ci', 95)` for the same effect.\n",
      "\n",
      "  sns.pointplot(\n",
      "C:\\Users\\brunn\\AppData\\Local\\Temp\\ipykernel_3304\\2603003094.py:16: FutureWarning: \n",
      "\n",
      "The `ci` parameter is deprecated. Use `errorbar=('ci', 95)` for the same effect.\n",
      "\n",
      "  sns.pointplot(\n"
     ]
    },
    {
     "data": {
      "image/png": "[encoded data removed]",
      "text/plain": [
       "<Figure size 1200x500 with 2 Axes>"
      ]
     },
     "metadata": {},
     "output_type": "display_data"
    }
   ],
   "source": [
    "import seaborn as sns\n",
    "import matplotlib.pyplot as plt\n",
    "\n",
    "fig, axes = plt.subplots(1, 2, figsize=(12, 5))\n",
    "\n",
    "# Gráfico 1: Posse de imóvel\n",
    "sns.pointplot(\n",
    "    data=previsao_de_renda,\n",
    "    x=\"posse_de_imovel\", y=\"renda\",\n",
    "    ci=95, capsize=0.2, color=\"steelblue\", ax=axes[0]\n",
    ")\n",
    "axes[0].set_title(\"Perfil de Média - Posse de Imóvel\")\n",
    "axes[0].set_ylabel(\"Renda média\")\n",
    "\n",
    "# Gráfico 2: Posse de veículo\n",
    "sns.pointplot(\n",
    "    data=previsao_de_renda,\n",
    "    x=\"posse_de_veiculo\", y=\"renda\",\n",
    "    ci=95, capsize=0.2, color=\"darkorange\", ax=axes[1]\n",
    ")\n",
    "axes[1].set_title(\"Perfil de Média - Posse de Veículo\")\n",
    "axes[1].set_ylabel(\"Renda média\")\n",
    "\n",
    "plt.tight_layout()\n",
    "plt.show()"
   ]
  },
  {
   "cell_type": "markdown",
   "metadata": {},
   "source": [
    "Os gráficos acima mostram a média da renda para dois grupos distintos: quem possui e quem não possui imóvel (à esquerda) e veículo (à direita). Em ambos os casos, observa-se que a média de renda é maior entre aqueles que possuem o bem, com uma diferença mais expressiva na posse de veículo. As barras verticais representam o intervalo de confiança, indicando a variação possível em torno da média. Como os intervalos entre os grupos não se sobrepõem significativamente, isso sugere que tanto a posse de imóvel quanto a de veículo estão associadas a rendas mais altas — sendo a posse de veículo um indicador ligeiramente mais forte."
   ]
  },
  {
   "cell_type": "markdown",
   "metadata": {},
   "source": [
    "Abaixo, apliquei o Teste T para comparar estatisticamente as médias de renda entre dois grupos (ex.: quem possui imóvel vs. quem não possui).\n",
    "Isso verifica se as diferenças observadas nas médias são estatisticamente significativas ou se podem ter ocorrido apenas por acaso."
   ]
  },
  {
   "cell_type": "code",
   "execution_count": 12,
   "metadata": {},
   "outputs": [
    {
     "name": "stdout",
     "output_type": "stream",
     "text": [
      "Teste t - Posse de Imóvel: p-valor = 0.0002\n",
      "Teste t - Posse de Veículo: p-valor = 0.0000\n"
     ]
    }
   ],
   "source": [
    "from scipy.stats import ttest_ind\n",
    "\n",
    "# Se os valores forem booleanos (True/False)\n",
    "renda_imovel_sim = previsao_de_renda.loc[previsao_de_renda[\"posse_de_imovel\"] == True, \"renda\"]\n",
    "renda_imovel_nao = previsao_de_renda.loc[previsao_de_renda[\"posse_de_imovel\"] == False, \"renda\"]\n",
    "\n",
    "renda_veiculo_sim = previsao_de_renda.loc[previsao_de_renda[\"posse_de_veiculo\"] == True, \"renda\"]\n",
    "renda_veiculo_nao = previsao_de_renda.loc[previsao_de_renda[\"posse_de_veiculo\"] == False, \"renda\"]\n",
    "\n",
    "# Executa o teste\n",
    "t_imovel, p_imovel = ttest_ind(renda_imovel_sim, renda_imovel_nao, equal_var=False)\n",
    "t_veiculo, p_veiculo = ttest_ind(renda_veiculo_sim, renda_veiculo_nao, equal_var=False)\n",
    "\n",
    "print(f\"Teste t - Posse de Imóvel: p-valor = {p_imovel:.4f}\")\n",
    "print(f\"Teste t - Posse de Veículo: p-valor = {p_veiculo:.4f}\")"
   ]
  },
  {
   "cell_type": "markdown",
   "metadata": {},
   "source": [
    "Esses resultados mostram que tanto a posse de imóvel quanto a posse de veículo têm uma diferença de renda estatisticamente significativa entre os grupos. O p-valor indica a probabilidade de essa diferença ocorrer apenas por acaso.\n",
    "\n",
    "Como os dois valores são menores que 0,05, rejeitamos a hipótese nula (de que as médias são iguais).\n",
    "\n",
    "Pessoas que possuem imóvel tendem a ter renda significativamente maior do que as que não possuem.\n",
    "\n",
    "E essa diferença é ainda mais forte no caso da posse de veículo, onde o p-valor praticamente zera, mostrando uma d\n",
    "istinção muito clara entre os grupos."
   ]
  },
  {
   "cell_type": "markdown",
   "metadata": {},
   "source": [
    "**Com o que você viu em aula, faça uma análise das variáveis qualitativas (posse de imóvel e posse de veículo) para verificar se são boas preditoras de renda. Alguma delas parece discriminar renda de forma estatisticamente significante?**\n",
    "\n",
    "Com base na análise realizada, tanto a posse de imóvel quanto a posse de veículo se mostraram boas preditoras de renda. As médias indicam que pessoas que possuem esses bens tendem a apresentar rendas mais elevadas em comparação às que não possuem. Além disso, os testes t de Student confirmaram que essas diferenças são estatisticamente significantes, com p-valores muito baixos (inferiores a 0,05). Isso significa que é altamente improvável que as diferenças observadas tenham ocorrido por acaso. Entre as duas variáveis, a posse de veículo demonstrou ser o fator com maior poder discriminatório sobre a renda."
   ]
  }
 ],
 "metadata": {
  "kernelspec": {
   "display_name": "Python 3 (ipykernel)",
   "language": "python",
   "name": "python3"
  },
  "language_info": {
   "codemirror_mode": {
    "name": "ipython",
    "version": 3
   },
   "file_extension": ".py",
   "mimetype": "text/x-python",
   "name": "python",
   "nbconvert_exporter": "python",
   "pygments_lexer": "ipython3",
   "version": "3.13.5"
  }
 },
 "nbformat": 4,
 "nbformat_minor": 4
}
